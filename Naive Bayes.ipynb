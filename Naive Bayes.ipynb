{
 "cells": [
  {
   "cell_type": "code",
   "execution_count": 4,
   "metadata": {
    "collapsed": true
   },
   "outputs": [],
   "source": [
    "import pandas as pd\n",
    "import numpy as np\n",
    "\n",
    "ResNet = pd.read_csv('./data/features_train/features_resnet1000_train.csv', header=None)\n",
    "ResNet.columns = ['fnum'] + list(range(1000))\n",
    "ResNet['fnum'] = ResNet['fnum'].apply(lambda x: int(x.split('/')[-1].split('.')[0]))\n",
    "ResNet.sort_values('fnum', inplace = True)\n",
    "ResNet.set_index('fnum', inplace = True)\n",
    "\n",
    "# Manual implementation of Softmax\n",
    "# Matrix of probabilities\n",
    "\n",
    "# img num 1: [ P(class=1), P(class=2), ...]\n",
    "# img num 2: [ P(class=1), P(class=2), ...]\n",
    "probabilities = np.exp(ResNet.values)/np.exp(ResNet.values).sum(axis=1, keepdims=True)"
   ]
  },
  {
   "cell_type": "code",
   "execution_count": 5,
   "metadata": {
    "collapsed": true
   },
   "outputs": [],
   "source": [
    "from glob import glob\n",
    "from functools import reduce\n",
    "from collections import defaultdict, Counter\n",
    "\n",
    "def counter_to_df_row(counter, index):\n",
    "    if bool(counter):\n",
    "        row = pd.DataFrame.from_dict(counter, orient='index').transpose()\n",
    "        row.index = [index]\n",
    "        return row\n",
    "    else:\n",
    "        return pd.DataFrame(index=[index])\n",
    "\n",
    "def get_tags_from(fname):\n",
    "    with open(fname) as f:\n",
    "        fnum = int(fname.split('/')[-1].split('.')[0])\n",
    "        tags = f.read().splitlines()\n",
    "        categories = Counter([tag.split(':')[0] for tag in tags])\n",
    "        subcategories = Counter([tag.split(':')[1] for tag in tags])\n",
    "        \n",
    "        cat_row = counter_to_df_row(categories, fnum)\n",
    "        subcat_row = counter_to_df_row(subcategories, fnum)\n",
    "        \n",
    "    return cat_row, subcat_row\n",
    "        \n",
    "\n",
    "files = glob('./data/tags_train/*')\n",
    "all_tags = [get_tags_from(file) for file in files]\n",
    "cats, subcats = tuple(zip(*all_tags))\n",
    "\n",
    "cats = reduce(lambda x, y: x.append(y), cats)\n",
    "cats.fillna(0, inplace=True)\n",
    "cats = cats.sort_index()\n",
    "\n",
    "subcats = reduce(lambda x, y: x.append(y), subcats)\n",
    "subcats.fillna(0, inplace=True)\n",
    "subcats = subcats.sort_index()"
   ]
  },
  {
   "cell_type": "code",
   "execution_count": 20,
   "metadata": {},
   "outputs": [
    {
     "ename": "TypeError",
     "evalue": "unhashable type: 'slice'",
     "output_type": "error",
     "traceback": [
      "\u001b[0;31m---------------------------------------------------------------------------\u001b[0m",
      "\u001b[0;31mTypeError\u001b[0m                                 Traceback (most recent call last)",
      "\u001b[0;32m<ipython-input-20-0e5257f5492a>\u001b[0m in \u001b[0;36m<module>\u001b[0;34m()\u001b[0m\n\u001b[1;32m      1\u001b[0m \u001b[0mdescriptions\u001b[0m \u001b[0;34m=\u001b[0m \u001b[0mpd\u001b[0m\u001b[0;34m.\u001b[0m\u001b[0mread_csv\u001b[0m\u001b[0;34m(\u001b[0m\u001b[0;34m\"tokens.csv\"\u001b[0m\u001b[0;34m)\u001b[0m\u001b[0;34m\u001b[0m\u001b[0m\n\u001b[1;32m      2\u001b[0m \u001b[0mdescriptions\u001b[0m \u001b[0;34m=\u001b[0m \u001b[0mdescriptions\u001b[0m\u001b[0;34m.\u001b[0m\u001b[0mset_index\u001b[0m\u001b[0;34m(\u001b[0m\u001b[0;34m'Unnamed: 0'\u001b[0m\u001b[0;34m)\u001b[0m\u001b[0;34m\u001b[0m\u001b[0m\n\u001b[0;32m----> 3\u001b[0;31m \u001b[0mlen\u001b[0m\u001b[0;34m(\u001b[0m\u001b[0mdescriptions\u001b[0m\u001b[0;34m[\u001b[0m\u001b[0;36m0\u001b[0m\u001b[0;34m,\u001b[0m\u001b[0;34m:\u001b[0m\u001b[0;34m]\u001b[0m\u001b[0;34m)\u001b[0m\u001b[0;34m\u001b[0m\u001b[0m\n\u001b[0m",
      "\u001b[0;32m/Users/jainanavati/anaconda/lib/python3.6/site-packages/pandas/core/frame.py\u001b[0m in \u001b[0;36m__getitem__\u001b[0;34m(self, key)\u001b[0m\n\u001b[1;32m   2060\u001b[0m             \u001b[0;32mreturn\u001b[0m \u001b[0mself\u001b[0m\u001b[0;34m.\u001b[0m\u001b[0m_getitem_multilevel\u001b[0m\u001b[0;34m(\u001b[0m\u001b[0mkey\u001b[0m\u001b[0;34m)\u001b[0m\u001b[0;34m\u001b[0m\u001b[0m\n\u001b[1;32m   2061\u001b[0m         \u001b[0;32melse\u001b[0m\u001b[0;34m:\u001b[0m\u001b[0;34m\u001b[0m\u001b[0m\n\u001b[0;32m-> 2062\u001b[0;31m             \u001b[0;32mreturn\u001b[0m \u001b[0mself\u001b[0m\u001b[0;34m.\u001b[0m\u001b[0m_getitem_column\u001b[0m\u001b[0;34m(\u001b[0m\u001b[0mkey\u001b[0m\u001b[0;34m)\u001b[0m\u001b[0;34m\u001b[0m\u001b[0m\n\u001b[0m\u001b[1;32m   2063\u001b[0m \u001b[0;34m\u001b[0m\u001b[0m\n\u001b[1;32m   2064\u001b[0m     \u001b[0;32mdef\u001b[0m \u001b[0m_getitem_column\u001b[0m\u001b[0;34m(\u001b[0m\u001b[0mself\u001b[0m\u001b[0;34m,\u001b[0m \u001b[0mkey\u001b[0m\u001b[0;34m)\u001b[0m\u001b[0;34m:\u001b[0m\u001b[0;34m\u001b[0m\u001b[0m\n",
      "\u001b[0;32m/Users/jainanavati/anaconda/lib/python3.6/site-packages/pandas/core/frame.py\u001b[0m in \u001b[0;36m_getitem_column\u001b[0;34m(self, key)\u001b[0m\n\u001b[1;32m   2067\u001b[0m         \u001b[0;31m# get column\u001b[0m\u001b[0;34m\u001b[0m\u001b[0;34m\u001b[0m\u001b[0m\n\u001b[1;32m   2068\u001b[0m         \u001b[0;32mif\u001b[0m \u001b[0mself\u001b[0m\u001b[0;34m.\u001b[0m\u001b[0mcolumns\u001b[0m\u001b[0;34m.\u001b[0m\u001b[0mis_unique\u001b[0m\u001b[0;34m:\u001b[0m\u001b[0;34m\u001b[0m\u001b[0m\n\u001b[0;32m-> 2069\u001b[0;31m             \u001b[0;32mreturn\u001b[0m \u001b[0mself\u001b[0m\u001b[0;34m.\u001b[0m\u001b[0m_get_item_cache\u001b[0m\u001b[0;34m(\u001b[0m\u001b[0mkey\u001b[0m\u001b[0;34m)\u001b[0m\u001b[0;34m\u001b[0m\u001b[0m\n\u001b[0m\u001b[1;32m   2070\u001b[0m \u001b[0;34m\u001b[0m\u001b[0m\n\u001b[1;32m   2071\u001b[0m         \u001b[0;31m# duplicate columns & possible reduce dimensionality\u001b[0m\u001b[0;34m\u001b[0m\u001b[0;34m\u001b[0m\u001b[0m\n",
      "\u001b[0;32m/Users/jainanavati/anaconda/lib/python3.6/site-packages/pandas/core/generic.py\u001b[0m in \u001b[0;36m_get_item_cache\u001b[0;34m(self, item)\u001b[0m\n\u001b[1;32m   1530\u001b[0m         \u001b[0;34m\"\"\"Return the cached item, item represents a label indexer.\"\"\"\u001b[0m\u001b[0;34m\u001b[0m\u001b[0m\n\u001b[1;32m   1531\u001b[0m         \u001b[0mcache\u001b[0m \u001b[0;34m=\u001b[0m \u001b[0mself\u001b[0m\u001b[0;34m.\u001b[0m\u001b[0m_item_cache\u001b[0m\u001b[0;34m\u001b[0m\u001b[0m\n\u001b[0;32m-> 1532\u001b[0;31m         \u001b[0mres\u001b[0m \u001b[0;34m=\u001b[0m \u001b[0mcache\u001b[0m\u001b[0;34m.\u001b[0m\u001b[0mget\u001b[0m\u001b[0;34m(\u001b[0m\u001b[0mitem\u001b[0m\u001b[0;34m)\u001b[0m\u001b[0;34m\u001b[0m\u001b[0m\n\u001b[0m\u001b[1;32m   1533\u001b[0m         \u001b[0;32mif\u001b[0m \u001b[0mres\u001b[0m \u001b[0;32mis\u001b[0m \u001b[0;32mNone\u001b[0m\u001b[0;34m:\u001b[0m\u001b[0;34m\u001b[0m\u001b[0m\n\u001b[1;32m   1534\u001b[0m             \u001b[0mvalues\u001b[0m \u001b[0;34m=\u001b[0m \u001b[0mself\u001b[0m\u001b[0;34m.\u001b[0m\u001b[0m_data\u001b[0m\u001b[0;34m.\u001b[0m\u001b[0mget\u001b[0m\u001b[0;34m(\u001b[0m\u001b[0mitem\u001b[0m\u001b[0;34m)\u001b[0m\u001b[0;34m\u001b[0m\u001b[0m\n",
      "\u001b[0;31mTypeError\u001b[0m: unhashable type: 'slice'"
     ]
    }
   ],
   "source": [
    "descriptions = pd.read_csv(\"tokens.csv\")\n",
    "descriptions = descriptions.set_index('Unnamed: 0')\n"
   ]
  },
  {
   "cell_type": "code",
   "execution_count": 17,
   "metadata": {},
   "outputs": [],
   "source": [
    "descriptions_test = pd.read_csv(\"./tokens_test.csv\")\n",
    "descriptions_test = descriptions_test.set_index('Unnamed: 0')"
   ]
  },
  {
   "cell_type": "code",
   "execution_count": 18,
   "metadata": {},
   "outputs": [
    {
     "data": {
      "text/plain": [
       "(2000, 5814)"
      ]
     },
     "execution_count": 18,
     "metadata": {},
     "output_type": "execute_result"
    }
   ],
   "source": [
    "# Convert into vector of tokens that map to our training data[]\n",
    "diff_cols = [col for col in descriptions.columns if col not in descriptions_test.columns]\n",
    "for col in diff_cols:\n",
    "    descriptions_test[col] = 0\n",
    "\n",
    "descriptions_test = descriptions_test[descriptions.columns]\n",
    "descriptions_test.shape"
   ]
  },
  {
   "cell_type": "code",
   "execution_count": 21,
   "metadata": {},
   "outputs": [],
   "source": [
    "from sklearn.naive_bayes import MultinomialNB\n",
    "\n",
    "def get_probability_matrix(descriptions_matrix, category_df):\n",
    "    classifiers = list()\n",
    "    category_probabilities = np.zeros((len(descriptions_matrix.values[0,:]),len(category_df.columns)))\n",
    "    token_vectors = np.diag(np.ones(len(descriptions_matrix.values[0,:])))\n",
    "\n",
    "    for i in range(len(category_df.columns)):\n",
    "        col = category_df[category_df.columns[i]]\n",
    "        flattened = np.array((col > 0).astype(int))\n",
    "        classifiers.append(MultinomialNB().fit(descriptions_matrix, flattened))\n",
    "        predictions = classifiers[i].predict_proba(token_vectors)\n",
    "        category_probabilities[:,i] = predictions[:,1]\n",
    "    \n",
    "    return category_probabilities, classifiers\n",
    "\n",
    "cat_probs, cat_clfs = get_probability_matrix(descriptions, cats)\n",
    "subcat_probs, subcat_clfs = get_probability_matrix(descriptions, subcats)"
   ]
  },
  {
   "cell_type": "code",
   "execution_count": 27,
   "metadata": {
    "collapsed": true
   },
   "outputs": [],
   "source": [
    "from sklearn.preprocessing import normalize\n",
    "\n",
    "cat_probs_per_token = normalize(descriptions_test.values).dot(cat_probs)\n",
    "subcat_probs_per_token = normalize(descriptions_test.values).dot(subcat_probs)"
   ]
  },
  {
   "cell_type": "code",
   "execution_count": 28,
   "metadata": {
    "collapsed": true
   },
   "outputs": [],
   "source": [
    "from glob import glob\n",
    "from functools import reduce\n",
    "from collections import defaultdict, Counter\n",
    "\n",
    "# Calculate Similarities to the Image Tag and Subtag vectors\n",
    "# First get tag vector data\n",
    "\n",
    "files = glob('./data/tags_test/*')\n",
    "all_tags = [get_tags_from(file) for file in files]\n",
    "cats, subcats = tuple(zip(*all_tags))\n",
    "\n",
    "cats = reduce(lambda x, y: x.append(y), cats)\n",
    "cats.fillna(0, inplace=True)\n",
    "cats = cats.sort_index()\n",
    "cats = normalize(cats)\n",
    "\n",
    "subcats = reduce(lambda x, y: x.append(y), subcats)\n",
    "subcats.fillna(0, inplace=True)\n",
    "subcats = subcats.sort_index()\n",
    "subcats = normalize(subcats)"
   ]
  },
  {
   "cell_type": "code",
   "execution_count": 31,
   "metadata": {},
   "outputs": [],
   "source": [
    "from sklearn.metrics.pairwise import cosine_similarity\n",
    "from sklearn.metrics.pairwise import euclidean_distances\n",
    "\n",
    "\n",
    "# For each testing vector, find 20 nearest neighbors\n",
    "similarities = cosine_similarity(cat_probs_per_token, cats)\n",
    "# x is test sentence\n",
    "# y is the image number\n",
    "\n",
    "sort_indices = similarities.argsort(axis=1)\n",
    "\n",
    "results = {}\n",
    "for i in range(2000): # Each test\n",
    "    top_20 = [\n",
    "        str(np.where(sort_indices[i,:] == j)[0][0]) \n",
    "        for j in range(20)\n",
    "    ]\n",
    "    results[str(i)+'.txt'] = '.jpg '.join(top_20) + '.jpg'\n",
    "\n",
    "# Create Submission\n",
    "results = pd.DataFrame.from_dict(results, orient='index').reset_index()\n",
    "results.columns = ['Descritpion_ID','Top_20_Image_IDs']\n",
    "results.to_csv('submission2.csv', index=False,index_label=False)"
   ]
  },
  {
   "cell_type": "code",
   "execution_count": null,
   "metadata": {
    "collapsed": true
   },
   "outputs": [],
   "source": []
  },
  {
   "cell_type": "markdown",
   "metadata": {},
   "source": [
    "## Subcats"
   ]
  },
  {
   "cell_type": "code",
   "execution_count": 125,
   "metadata": {
    "collapsed": true
   },
   "outputs": [],
   "source": [
    "from sklearn.metrics.pairwise import cosine_similarity\n",
    "\n",
    "# For each testing vector, find 20 nearest neighbors\n",
    "similarities = cosine_similarity(subcat_probs_per_token, subcats)\n",
    "# x is test sentence\n",
    "# y is the image number\n",
    "\n",
    "sort_indices = similarities.argsort(axis=1)\n",
    "\n",
    "results = {}\n",
    "for i in range(2000): # Each test\n",
    "    top_20 = [\n",
    "        str(np.where(sort_indices[i,:] == j)[0][0]) for j in range(20)]\n",
    "    results[str(i)+'.txt'] = '.jpg '.join(top_20) + '.jpg'\n",
    "\n",
    "# Create Submission\n",
    "results = pd.DataFrame.from_dict(results, orient='index').reset_index()\n",
    "results.columns = ['Descritpion_ID','Top_20_Image_IDs']\n",
    "results.to_csv('submission.csv', index=False,index_label=False)"
   ]
  },
  {
   "cell_type": "code",
   "execution_count": 1,
   "metadata": {
    "collapsed": true
   },
   "outputs": [],
   "source": [
    "def similarity_to_results(similarities_matrix, fname):\n",
    "    sort_indices = (similarities_matrix*-1).argsort(axis=1)\n",
    "\n",
    "    results = {}\n",
    "    for i in range(2000): # Each test\n",
    "        top_20 = [\n",
    "            str(np.where(sort_indices[i,:] == j)[0][0]) for j in range(20)]\n",
    "        results[str(i)+'.txt'] = '.jpg '.join(top_20) + '.jpg'\n",
    "\n",
    "    # Create Submission\n",
    "    results = pd.DataFrame.from_dict(results, orient='index').reset_index()\n",
    "    results.columns = ['Descritpion_ID','Top_20_Image_IDs']\n",
    "    results.to_csv(fname, index=False,index_label=False)"
   ]
  },
  {
   "cell_type": "code",
   "execution_count": null,
   "metadata": {
    "collapsed": true
   },
   "outputs": [],
   "source": []
  },
  {
   "cell_type": "code",
   "execution_count": 141,
   "metadata": {
    "collapsed": true
   },
   "outputs": [],
   "source": [
    "description_categories = np.concatenate([subcat_probs_per_token,cat_probs_per_token], axis=1)\n",
    "image_categories = np.concatenate([subcats,cats], axis=1)\n",
    "\n",
    "similarities = cosine_similarity(description_categories, image_categories)"
   ]
  },
  {
   "cell_type": "code",
   "execution_count": 143,
   "metadata": {
    "collapsed": true
   },
   "outputs": [],
   "source": [
    "similarity_to_results(similarities, 'submission.csv')"
   ]
  },
  {
   "cell_type": "code",
   "execution_count": null,
   "metadata": {
    "collapsed": true
   },
   "outputs": [],
   "source": [
    "\n",
    "\n",
    "def sort(matrix):\n",
    "    A = matrix.sort(axis=1)\n",
    "        \n"
   ]
  }
 ],
 "metadata": {
  "kernelspec": {
   "display_name": "Python 3",
   "language": "python",
   "name": "python3"
  },
  "language_info": {
   "codemirror_mode": {
    "name": "ipython",
    "version": 3
   },
   "file_extension": ".py",
   "mimetype": "text/x-python",
   "name": "python",
   "nbconvert_exporter": "python",
   "pygments_lexer": "ipython3",
   "version": "3.6.1"
  }
 },
 "nbformat": 4,
 "nbformat_minor": 2
}
