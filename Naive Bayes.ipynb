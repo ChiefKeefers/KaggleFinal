{
 "cells": [
  {
   "cell_type": "code",
   "execution_count": 2,
   "metadata": {},
   "outputs": [],
   "source": [
    "import pandas as pd\n",
    "from glob import glob\n",
    "from functools import reduce\n",
    "from collections import defaultdict, Counter\n",
    "\n",
    "def counter_to_df_row(counter, index):\n",
    "    if bool(counter):\n",
    "        row = pd.DataFrame.from_dict(counter, orient='index').transpose()\n",
    "        row.index = [index]\n",
    "        return row\n",
    "    else:\n",
    "        return pd.DataFrame(index=[index])\n",
    "\n",
    "def get_tags_from(fname):\n",
    "    with open(fname) as f:\n",
    "        fnum = int(fname.split('/')[-1].split('.')[0])\n",
    "        tags = f.read().splitlines()\n",
    "        categories = Counter([tag.split(':')[0] for tag in tags])\n",
    "        subcategories = Counter([tag.split(':')[1] for tag in tags])\n",
    "        \n",
    "        cat_row = counter_to_df_row(categories, fnum)\n",
    "        subcat_row = counter_to_df_row(subcategories, fnum)\n",
    "        \n",
    "    return cat_row, subcat_row\n",
    "        \n",
    "\n",
    "files = glob('./data/tags_train/*')\n",
    "all_tags = [get_tags_from(file) for file in files]\n",
    "cats, subcats = tuple(zip(*all_tags))\n",
    "\n",
    "cats = reduce(lambda x, y: x.append(y), cats)\n",
    "cats.fillna(0, inplace=True)\n",
    "cats = cats.sort_index()\n",
    "\n",
    "subcats = reduce(lambda x, y: x.append(y), subcats)\n",
    "subcats.fillna(0, inplace=True)\n",
    "subcats = subcats.sort_index()"
   ]
  },
  {
   "cell_type": "code",
   "execution_count": 3,
   "metadata": {},
   "outputs": [],
   "source": [
    "descriptions = pd.read_csv(\"./pipeline/data/tokens_train.csv\")\n",
    "descriptions = descriptions.set_index('Unnamed: 0')\n",
    "descriptions_test = pd.read_csv(\"./pipeline/data/tokens_test.csv\")\n",
    "descriptions_test = descriptions_test.set_index('Unnamed: 0')\n",
    "\n",
    "# Convert into vector of tokens that map to our training data[]\n",
    "diff_cols = [col for col in descriptions.columns if col not in descriptions_test.columns]\n",
    "for col in diff_cols:\n",
    "    descriptions_test[col] = 0\n",
    "\n",
    "descriptions_test = descriptions_test[descriptions.columns]"
   ]
  },
  {
   "cell_type": "code",
   "execution_count": 5,
   "metadata": {},
   "outputs": [],
   "source": [
    "import numpy as np\n",
    "from sklearn.naive_bayes import MultinomialNB\n",
    "from sklearn.preprocessing import normalize\n",
    "\n",
    "def get_probability_matrix(descriptions_matrix, category_df):\n",
    "    classifiers = list()\n",
    "    category_probabilities = np.zeros((len(descriptions_matrix[0,:]),len(category_df.columns)))\n",
    "    token_vectors = np.diag(np.ones(len(descriptions_matrix[0,:])))\n",
    "\n",
    "    for i in range(len(category_df.columns)):\n",
    "        col = category_df[category_df.columns[i]]\n",
    "        flattened = np.array((col > 0).astype(int))\n",
    "        classifiers.append(MultinomialNB().fit(descriptions_matrix, flattened))\n",
    "        predictions = classifiers[i].predict_proba(token_vectors)\n",
    "        category_probabilities[:,i] = predictions[:,1]\n",
    "    \n",
    "    return category_probabilities, classifiers\n",
    "\n",
    "cat_probs, cat_clfs = get_probability_matrix(descriptions.values, cats)\n",
    "subcat_probs, subcat_clfs = get_probability_matrix(descriptions.values, subcats)\n",
    "cat_probs_per_token = normalize(descriptions_test.values).dot(cat_probs)\n",
    "subcat_probs_per_token = normalize(descriptions_test.values).dot(subcat_probs)"
   ]
  },
  {
   "cell_type": "code",
   "execution_count": 17,
   "metadata": {},
   "outputs": [],
   "source": [
    "from sklearn.metrics.pairwise import cosine_similarity\n",
    "\n",
    "description_categories = np.concatenate([subcat_probs_per_token,cat_probs_per_token], axis=1)\n",
    "image_categories = np.concatenate([subcats,cats], axis=1)\n",
    "\n",
    "similarities = cosine_similarity(description_categories, image_categories)"
   ]
  },
  {
   "cell_type": "code",
   "execution_count": 19,
   "metadata": {},
   "outputs": [],
   "source": [
    "def reverse(matrix):\n",
    "    A = np.zeros(matrix.shape)\n",
    "    for i in range(len(matrix[:,0])):\n",
    "        row_order_indices = similarities[i].argsort() \n",
    "        A[i] = row_order_indices[::-1]\n",
    "    return A\n",
    "\n",
    "def similarity_to_results(similarities_matrix, fname):\n",
    "    sort_indices = similarities_matrix.argsort(axis=1)\n",
    "\n",
    "    results = {}\n",
    "    for i in range(2000): # Each test\n",
    "        top_20 = [\n",
    "            str(np.where(sort_indices[i,:] == j)[0][0]) for j in range(20)]\n",
    "        results[str(i)+'.txt'] = '.jpg '.join(top_20) + '.jpg'\n",
    "\n",
    "    # Create Submission\n",
    "    results = pd.DataFrame.from_dict(results, orient='index').reset_index()\n",
    "    results.columns = ['Descritpion_ID','Top_20_Image_IDs']\n",
    "    results.to_csv(fname, index=False,index_label=False)\n",
    "\n",
    "similarity_to_results(similarities, 'submission.csv')"
   ]
  }
 ],
 "metadata": {
  "kernelspec": {
   "display_name": "Python 3",
   "language": "python",
   "name": "python3"
  },
  "language_info": {
   "codemirror_mode": {
    "name": "ipython",
    "version": 3
   },
   "file_extension": ".py",
   "mimetype": "text/x-python",
   "name": "python",
   "nbconvert_exporter": "python",
   "pygments_lexer": "ipython3",
   "version": "3.6.3"
  }
 },
 "nbformat": 4,
 "nbformat_minor": 2
}
