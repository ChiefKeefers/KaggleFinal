{
 "cells": [
  {
   "cell_type": "code",
   "execution_count": 1,
   "metadata": {},
   "outputs": [],
   "source": [
    "import pandas as pd\n",
    "import numpy as np\n",
    "\n",
    "ResNet = pd.read_csv('./data/features_train/features_resnet1000_train.csv', header=None)\n",
    "ResNet.columns = ['fnum'] + list(range(1000))\n",
    "ResNet['fnum'] = ResNet['fnum'].apply(lambda x: int(x.split('/')[-1].split('.')[0]))\n",
    "ResNet.sort_values('fnum', inplace = True)\n",
    "ResNet.set_index('fnum', inplace = True)\n",
    "\n",
    "# Manual implementation of Softmax\n",
    "# Matrix of probabilities\n",
    "\n",
    "# img num 1: [ P(class=1), P(class=2), ...]\n",
    "# img num 2: [ P(class=1), P(class=2), ...]\n",
    "probabilities = np.exp(ResNet.values)/np.exp(ResNet.values).sum(axis=1, keepdims=True)"
   ]
  },
  {
   "cell_type": "code",
   "execution_count": 2,
   "metadata": {},
   "outputs": [],
   "source": [
    "from glob import glob\n",
    "from functools import reduce\n",
    "from collections import defaultdict, Counter\n",
    "\n",
    "def counter_to_df_row(counter, index):\n",
    "    if bool(counter):\n",
    "        row = pd.DataFrame.from_dict(counter, orient='index').transpose()\n",
    "        row.index = [index]\n",
    "        return row\n",
    "    else:\n",
    "        return pd.DataFrame(index=[index])\n",
    "\n",
    "def get_tags_from(fname):\n",
    "    with open(fname) as f:\n",
    "        fnum = int(fname.split('/')[-1].split('.')[0])\n",
    "        tags = f.read().splitlines()\n",
    "        categories = Counter([tag.split(':')[0] for tag in tags])\n",
    "        subcategories = Counter([tag.split(':')[1] for tag in tags])\n",
    "        \n",
    "        cat_row = counter_to_df_row(categories, fnum)\n",
    "        subcat_row = counter_to_df_row(subcategories, fnum)\n",
    "        \n",
    "    return cat_row, subcat_row\n",
    "        \n",
    "\n",
    "files = glob('./data/tags_train/*')\n",
    "all_tags = [get_tags_from(file) for file in files]\n",
    "cats, subcats = tuple(zip(*all_tags))\n",
    "\n",
    "cats = reduce(lambda x, y: x.append(y), cats)\n",
    "cats.fillna(0, inplace=True)\n",
    "cats = cats.sort_index()\n",
    "\n",
    "subcats = reduce(lambda x, y: x.append(y), subcats)\n",
    "subcats.fillna(0, inplace=True)\n",
    "subcats = subcats.sort_index()"
   ]
  },
  {
   "cell_type": "code",
   "execution_count": 4,
   "metadata": {},
   "outputs": [],
   "source": [
    "descriptions = np.loadtxt(open(\"./pipeline/data/tokens_train.csv\", \"r\"), delimiter=\",\", skiprows=1)\n",
    "descriptions = descriptions[:,1:]"
   ]
  },
  {
   "cell_type": "code",
   "execution_count": 53,
   "metadata": {},
   "outputs": [],
   "source": [
    "from sklearn.naive_bayes import MultinomialNB\n",
    "\n",
    "def get_probability_matrix(descriptions_matrix, category_df):\n",
    "    classifiers = list()\n",
    "    category_probabilities = np.zeros((len(descriptions_matrix[0,:]),len(category_df.columns)))\n",
    "    token_vectors = np.diag(np.ones(len(descriptions_matrix[0,:])))\n",
    "\n",
    "    for i in range(len(category_df.columns)):\n",
    "        col = category_df[category_df.columns[i]]\n",
    "        flattened = np.array((col > 0).astype(int))\n",
    "        classifiers.append(MultinomialNB().fit(descriptions_matrix, flattened))\n",
    "        predictions = classifiers[i].predict_proba(token_vectors)\n",
    "        category_probabilities[:,i] = predictions[:,1]\n",
    "    \n",
    "    return category_probabilities, classifiers\n",
    "\n",
    "cat_probs, cat_clfs = get_probability_matrix(descriptions, cats)\n",
    "subcat_probs, subcat_clfs = get_probability_matrix(descriptions, subcats)"
   ]
  },
  {
   "cell_type": "code",
   "execution_count": null,
   "metadata": {},
   "outputs": [],
   "source": []
  }
 ],
 "metadata": {
  "kernelspec": {
   "display_name": "Python 3",
   "language": "python",
   "name": "python3"
  },
  "language_info": {
   "codemirror_mode": {
    "name": "ipython",
    "version": 3
   },
   "file_extension": ".py",
   "mimetype": "text/x-python",
   "name": "python",
   "nbconvert_exporter": "python",
   "pygments_lexer": "ipython3",
   "version": "3.6.3"
  }
 },
 "nbformat": 4,
 "nbformat_minor": 2
}
